{
 "cells": [
  {
   "attachments": {},
   "cell_type": "markdown",
   "metadata": {},
   "source": [
    "# 实验三 排序算法\n",
    "\n",
    "## 设计思路\n",
    "\n",
    "给定n个学生，以及其信息，分析其最多奖学金的姓名，以及奖金数额，和总奖金。\n",
    "\n",
    "\n",
    "- 设定一个学生主体，它的属性包含期末平均成绩，论文数，班级评议成绩，是否为西部省份学生，是否为学生干部。\n",
    "- 编写5个判断函数，对于每个学生，分别执行判断，并将奖学金总加进sum里面\n",
    "- 然后用sort函数进行排序每个学生的奖学金，一定注意要稳定排序，才能保证特殊情况下最高奖学金中是输入文件中出现最早的学生的姓名，在此我仅仅采用python官方sort函数，归并也可既快又稳定。\n",
    "\n",
    "## 伪代码与思路\n",
    "\n",
    "先设定一个结构体，名字为student，属性为各个条件，然后结构体函数就是5个判断奖学金。然后调用sort配合lambda将奖学金拉出来比较。\n",
    "\n",
    "\n",
    "\n",
    "以下为伪代码："
   ]
  },
  {
   "cell_type": "code",
   "execution_count": null,
   "metadata": {},
   "outputs": [],
   "source": [
    "CLASS student\n",
    "  FUNCTION INIT(self, input_string)\n",
    "    info = input_string.split()\n",
    "    self.name = info[0]\n",
    "    self.final_grade = int(info[1])\n",
    "    self.evaluate_grade = int(info[2])\n",
    "    self.is_leader = True IF info[3] == \"Y\" ELSE False\n",
    "    self.is_westStu = True IF info[4] == \"Y\" ELSE False\n",
    "    self.paper = int(info[5])\n",
    "    self.scholarship = 0\n",
    "  END FUNCTION\n",
    "  \n",
    "  FUNCTION cal_scholarship(self)\n",
    "    IF self.final_grade > 80 AND self.paper >= 1\n",
    "      self.scholarship += 8000\n",
    "    END IF\n",
    "    IF self.final_grade > 85 AND self.evaluate_grade > 80\n",
    "      self.scholarship += 4000\n",
    "    END IF\n",
    "    IF self.final_grade > 90\n",
    "      self.scholarship += 2000\n",
    "    END IF\n",
    "    IF self.final_grade > 85 AND self.is_westStu\n",
    "      self.scholarship += 1000\n",
    "    END IF\n",
    "    IF self.evaluate_grade > 80 AND self.is_leader\n",
    "      self.scholarship += 850\n",
    "    END IF\n",
    "  END FUNCTION\n",
    "END CLASS\n",
    "\n",
    "n = int(input())\n",
    "arr = []\n",
    "total = 0\n",
    "\n",
    "FOR i = 0 TO n-1\n",
    "  stu = student(input())\n",
    "  stu.cal_scholarship()\n",
    "  total += stu.scholarship\n",
    "  arr.append(stu)\n",
    "END FOR\n",
    "\n",
    "arr.sort(key=lambda x: x.scholarship,reverse=True)\n",
    "\n",
    "PRINT arr[0].name\n",
    "PRINT arr[0].scholarship\n",
    "PRINT total\n"
   ]
  },
  {
   "attachments": {},
   "cell_type": "markdown",
   "metadata": {},
   "source": [
    "## python代码实现"
   ]
  },
  {
   "cell_type": "code",
   "execution_count": null,
   "metadata": {},
   "outputs": [],
   "source": [
    "class student:\n",
    "    def __init__(self, input_string) -> None:\n",
    "        info = input_string.split()\n",
    "        self.name = info[0]\n",
    "        self.final_grade = int(info[1])\n",
    "        self.evaluate_grade = int(info[2])\n",
    "        self.is_leader = True if info[3] == \"Y\" else False\n",
    "        self.is_westStu = True if info[4] == \"Y\" else False\n",
    "        self.paper = int(info[5])\n",
    "        self.scholarship = 0\n",
    "    def cal_scholarship(self):\n",
    "        if self.final_grade > 80 and self.paper >= 1:\n",
    "            self.scholarship += 8000\n",
    "        if self.final_grade > 85 and self.evaluate_grade > 80:\n",
    "            self.scholarship += 4000\n",
    "        if self.final_grade > 90:\n",
    "            self.scholarship += 2000\n",
    "        if self.final_grade > 85 and self.is_westStu:\n",
    "            self.scholarship += 1000\n",
    "        if self.evaluate_grade > 80 and self.is_leader:\n",
    "            self.scholarship += 850\n",
    "\n",
    "n = int(input())\n",
    "arr = []\n",
    "total = 0\n",
    "for i in range(n):\n",
    "    stu = student(input())\n",
    "    stu.cal_scholarship()\n",
    "    total += stu.scholarship\n",
    "    arr.append(stu)\n",
    "\n",
    "arr.sort(key=lambda x: x.scholarship,reverse=True)\n",
    "\n",
    "print(arr[0].name)\n",
    "print(arr[0].scholarship)\n",
    "print(total)"
   ]
  },
  {
   "attachments": {},
   "cell_type": "markdown",
   "metadata": {},
   "source": [
    "## 代码运行情况\n",
    "\n",
    "\n",
    "已通过洛谷测试\n",
    "\n",
    "\n",
    "![如图所示](./img/1.png)"
   ]
  },
  {
   "attachments": {},
   "cell_type": "markdown",
   "metadata": {},
   "source": [
    "## 总结\n",
    "\n",
    "\n",
    "本次实验是一个简单的储存条件，判断条件，进行排序的基础题。\n",
    "\n",
    "之前遇到这道题时用C处理，现在改成python。发现python的类与C的结构体的不同，甚至和Java的类也不同。因为不能储存变量，只能在构造方法上进行设置。\n",
    "算是领略到了不同语言的风格和语法糖。其次，再一次使用了lambda，发现它是真的方便。\n",
    "\n",
    "当然这一题的难点就是排序的稳定性，但是只要采用稳定排序算法即可，例如插入，归并。不要用快排即可。"
   ]
  }
 ],
 "metadata": {
  "kernelspec": {
   "display_name": "Python 3",
   "language": "python",
   "name": "python3"
  },
  "language_info": {
   "codemirror_mode": {
    "name": "ipython",
    "version": 3
   },
   "file_extension": ".py",
   "mimetype": "text/x-python",
   "name": "python",
   "nbconvert_exporter": "python",
   "pygments_lexer": "ipython3",
   "version": "3.11.2"
  },
  "orig_nbformat": 4
 },
 "nbformat": 4,
 "nbformat_minor": 2
}
